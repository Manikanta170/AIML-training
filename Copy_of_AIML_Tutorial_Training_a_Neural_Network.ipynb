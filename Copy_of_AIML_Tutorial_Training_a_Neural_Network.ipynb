{
  "nbformat": 4,
  "nbformat_minor": 0,
  "metadata": {
    "colab": {
      "provenance": [],
      "include_colab_link": true
    },
    "kernelspec": {
      "name": "python3",
      "display_name": "Python 3"
    },
    "language_info": {
      "name": "python"
    }
  },
  "cells": [
    {
      "cell_type": "markdown",
      "metadata": {
        "id": "view-in-github",
        "colab_type": "text"
      },
      "source": [
        "<a href=\"https://colab.research.google.com/github/Manikanta170/AIML-training/blob/main/Copy_of_AIML_Tutorial_Training_a_Neural_Network.ipynb\" target=\"_parent\"><img src=\"https://colab.research.google.com/assets/colab-badge.svg\" alt=\"Open In Colab\"/></a>"
      ]
    },
    {
      "cell_type": "markdown",
      "source": [
        "# What is a Neural Network\n",
        "\n",
        "---\n",
        "\n",
        "Neural networks are a set of algorithms inspired by the functioning of the human brain. When you open your eyes, the information you perceive, known as data, is processed by neurons, which are the data processing cells in your brain. These neurons recognize patterns in the data and enable you to identify and understand your surroundings.\n",
        "\n",
        "Here is an example of Neural Network trying to predict the image data that given to it(the image data is 28x28 pixels, thats 784 pixels at input neurons). it predicts that the no is 2 here:\n",
        "\n",
        "![](https://miro.medium.com/v2/resize:fit:640/format:webp/0*aWIO7eB6E4-cIkK9.gif)\n",
        "\n"
      ],
      "metadata": {
        "id": "TVPFp2Bx-BJV"
      }
    },
    {
      "cell_type": "markdown",
      "source": [
        "# Breaking Down The Neural Network!\n",
        "\n",
        "\n",
        "### 1. Data\n",
        "  The type of data a neural network processes varies drastically based on the problem being solved. When we build a neural network, we define what shape and kind of data it can accept. It may sometimes be neccessary to modify our dataset so that it can be passed to our neural network.\n",
        "\n",
        "### 2. Layers\n",
        "  As we mentioned earlier each neural network consists of multiple layers. At each layer a different transformation of data occurs. Our initial input data is fed through the layers and eventually arrives at the output layer where we will obtain the result.\n",
        "\n",
        "  * Input Layer:\n",
        "  The input layer is the layer that our initial data is passed to. It is the first layer in our neural network.\n",
        "\n",
        "  * Output Layer:\n",
        "  The output layer is the layer that we will retrive our results from. Once the data has passed through all other layers it will arrive here.\n",
        "\n",
        "  * Hidden Layer(s):\n",
        "  All the other layers in our neural network are called \"hidden layers\". This is because they are hidden to us, we cannot observe them. Most neural networks consist of at least one hidden layer but can have an unlimited amount. Typically, the more complex the model the more hidden layers.\n",
        "\n",
        "![](https://miro.medium.com/v2/resize:fit:640/format:webp/0*BSxP3AHxBe_IevHC.png)\n",
        "\n",
        "### 3. Neurons\n",
        "\n",
        "Each layer is made up of what are called neurons. For example, say we want to pass an image that is 28x28 pixels, thats 784 pixels. We would need 784 neurons in our input layer to capture each of these pixels.\n",
        "\n",
        "### 4. Weights\n",
        "  Weights are associated with each connection in our neural network. Every pair of connected nodes will have one weight that denotes the strength of the connection between them. The model will try to determine what these weights should be to achieve the best result. Weights start out at a constant or random value and will change as the network sees training data.\n",
        "\n",
        "### 5. Biases\n",
        "\n",
        "  A bias is simply a constant value associated with each layer. It can be thought of as an extra neuron that has no connections. The purpose of a bias is to shift an entire activation function by a constant value. This allows a lot more flexibllity when it comes to choosing an activation and training the network. There is one bias for each layer.\n",
        "\n",
        "![](https://miro.medium.com/v2/resize:fit:960/1*0lejoYyyQWjYzEP_BNW2nw.jpeg)\n",
        "\n",
        "### 6. Activation Function\n",
        "\n",
        "Activation functions are simply a function that is applied to the weighed sum of a neuron. They can be anything we want but are typically higher order/degree functions that aim to add a higher dimension to our data. We would want to do this to introduce more complexity to our model.\n",
        "\n",
        "\n",
        "A list of some common activation functions and their graphs can be seen below:\n",
        "\n",
        "* #### Sigmoid function:\n",
        "\n",
        "  Transform $ (- \\infty $ to $ \\infty) $ into (0 to 1) range\n",
        "  $$\n",
        "  sigmoid(x) = \\frac{1}{1 + e^{-x}}\n",
        "  $$\n",
        "\n",
        "* #### Tanh function:\n",
        "\n",
        "  Similar to sigmoid, difference being that output is -1 to +1\n",
        "\n",
        "\n",
        "$$\n",
        "tanh(x) = \\frac{e^x - e^{-x}}{e^x + e^{-x}}\n",
        "$$\n",
        "\n",
        "  \n",
        "\n",
        "* #### ReLU\n",
        "\n",
        "  $$\n",
        "  f(x) = \\begin{cases} %\n",
        "                      0 & if \\; x<0 \\\\\n",
        "                      x &  if \\;x \\geq 0.\n",
        "                  \\end{cases}\n",
        "  $$\n",
        "\n",
        "![](https://www.researchgate.net/publication/327435257/figure/fig4/AS:742898131812354@1554132125449/Activation-Functions-ReLU-Tanh-Sigmoid.ppm)\n",
        "\n",
        "There are several other loss functions, each with its own specific use cases and characteristics, you can explore those at your own pace."
      ],
      "metadata": {
        "id": "KR9hR8ak7hgX"
      }
    },
    {
      "cell_type": "markdown",
      "source": [
        "\n",
        "## How it Works\n",
        "\n",
        "A neural network consists of many Nodes (Neurons) in many layers. Each layer can have any number of nodes and a neural network can have any number of layers.\n",
        "\n",
        "\n",
        "\n",
        "Lets take the example of whats going on with a single node in the network.\n",
        "\n",
        "![](https://miro.medium.com/v2/resize:fit:720/format:webp/1*SaQMHTLi4C7MIA4IzjAXJw.png)\n",
        "\n",
        "\n",
        "\n",
        "\n",
        "\n",
        "\n",
        "\\begin{equation}\n",
        "Y =(\\sum_{i=0}^n w_i x_i) + b\n",
        "\\end{equation}\n",
        "\n",
        " * w: stands for the weight of each connection to the neuron\n",
        "\n",
        " * x: stands for the value of the connected neuron from the previous value\n",
        "\n",
        " * b: stands for the bias at each layer, this is a constant\n",
        "\n",
        " * n: is the number of connections\n",
        "\n",
        " * Y: is the output of the current neuron\n",
        "\n",
        "\n",
        " The equation you just read is called a weighed sum. We will take this weighted sum at each and every neuron as we pass information through the network. Then we will add what's called a bias to this sum. The bias allows us to shift the network up or down by a constant value. It is like the y-intercept of a line.\n",
        "\n",
        "\n",
        " But that equation is the not complete one! We forgot a crucial part, the **activation function**. Our new equation with the addition of an activation function\n",
        " is seen below.\n",
        "\n",
        "\\begin{equation}\n",
        " Y =F((\\sum_{i=0}^n w_i x_i) + b)\n",
        "\\end{equation}\n",
        "\n"
      ],
      "metadata": {
        "id": "0dIWWXD45sHZ"
      }
    },
    {
      "cell_type": "markdown",
      "source": [
        "#### Every Neural Network has 2 main parts:\n",
        "\n",
        "* Forward Propagation.\n",
        "* Backward Propagation.\n",
        "\n",
        "![](https://www.researchgate.net/publication/327637282/figure/fig1/AS:670566579175436@1536886939536/A-simple-neural-network-with-two-hidden-layers-of-two-nodes-each-four-inputs-and-a.ppm)\n",
        "\n",
        "# Forward Propogation.\n",
        "\n",
        "* Forward propagation is the process in which input data is processed through the neural network's layers to produce an output.\n",
        "\n",
        "* It involves passing the input data through each layer of the neural network, applying the layer's weights and activation functions, until the final output is obtained.\n",
        "\n",
        "# Backpropagation\n",
        "Backpropagation is the fundemental algorithm behind training neural networks. It is what changes the weights and biases of our network. To fully explain this process, we need to learn something called a cost/loss function.\n",
        "\n",
        "# Loss/Cost Function\n",
        "\n",
        "For our training data we have the features (input) and the labels (expected output), because of this we can compare the output from our network to the expected output. Based on the difference between these values we can determine if our network has done a good job or poor job. If the network has done a good job, we'll make minor changes to the weights and biases. If it has done a poor job our changes may be more drastic.\n",
        "\n",
        "Some common loss/cost functions include.\n",
        "\n",
        "* Mean Squared Error\n",
        "\\begin{equation}\n",
        "y = \\sum_{i=1}^{D}(x_i-y_i)^2\n",
        "\\end{equation}\n",
        "\n",
        "\n",
        "* Mean Absolute Error\n",
        "\\begin{equation}y = \\sum_{i=1}^{D}|x_i-y_i|\n",
        "\\end{equation}\n",
        "* Hinge Loss\n",
        "\\begin{equation}\n",
        "y = max(0, 1 - y \\cdot \\hat{y})\n",
        "\\end{equation}\n",
        "\n",
        "Where 'D' represents the number of samples in the dataset.\n",
        "\n",
        "# Optimizer\n",
        "Optimization function is simply the function that implements the backpropagation algorithm described above. Here's a list of a few common ones.\n",
        "\n",
        "* Gradient Descent\n",
        "* Stochastic Gradient Descent\n",
        "* Mini-Batch Gradient Descent\n",
        "* Momentum\n",
        "* Nesterov Accelerated Gradient\n",
        "\n",
        "![](https://i.pinimg.com/originals/6f/d6/22/6fd62253592b42795c48dc570a17579c.gif)\n",
        "\n",
        "During backpropagation we calculate the total error at the output nodes and propagate these errors back through the network using Backpropagation to calculate the gradients. Then we use an optimization method such as Gradient Descent to adjust all weights in the network with an aim of reducing the error at the output layer.\n",
        "\n"
      ],
      "metadata": {
        "id": "gPpxXw9S-HZ-"
      }
    },
    {
      "cell_type": "markdown",
      "source": [
        "## Building a Nueral Network"
      ],
      "metadata": {
        "id": "UbEFZXhaMLHq"
      }
    },
    {
      "cell_type": "code",
      "source": [
        "import numpy as np\n",
        "import matplotlib.pyplot as plt\n",
        "from sklearn.datasets import load_iris\n",
        "import random"
      ],
      "metadata": {
        "id": "83mCQD8QFPFH"
      },
      "execution_count": 1,
      "outputs": []
    },
    {
      "cell_type": "code",
      "source": [
        "# load the dataset\n",
        "\n",
        "iris = load_iris()\n",
        "data, labels = iris.data[:,0:2], iris.data[:,2]\n",
        "\n",
        "num_samples = len(labels)  # size of our dataset\n",
        "\n",
        "# shuffle the dataset\n",
        "shuffle_order = np.random.permutation(num_samples)\n",
        "data = data[shuffle_order, :]\n",
        "labels = labels[shuffle_order]"
      ],
      "metadata": {
        "id": "VK2wHTQ1FHlB"
      },
      "execution_count": 2,
      "outputs": []
    },
    {
      "cell_type": "markdown",
      "source": [
        "Like the 1-dimensional problem previously, we can still do linear regression, except now we have two variables and therefore two weights as well. Let's denote the input variables as x1 and x2 and instead of using m as the coefficient variable, let's use w1 and w2. So for linear regression, we would have the following function:\n",
        "\n",
        "$$\n",
        "f(X) = w_1 x_1 + w_2 x_2 + b\n",
        "$$\n",
        "\n",
        "\n",
        "For example, suppose set w = [0.2, 0.6] and b = -0.3. Let's calculate the resulting . We can program this as a function called \"weighted_sum\"."
      ],
      "metadata": {
        "id": "1JFlz0COF9Hh"
      }
    },
    {
      "cell_type": "code",
      "source": [
        "def weighted_sum(x, w, b):\n",
        "    return b + np.dot(w, x)\n",
        "\n",
        "# set our paramters - weights and bias\n",
        "w = [0.2, 0.6]\n",
        "b = -0.3\n",
        "\n",
        "# for example, let's use the first data point\n",
        "X, y = data, labels\n",
        "\n",
        "pred_y = [weighted_sum(x, w, b) for x in X]\n",
        "\n",
        "# let's print out the first prediction\n",
        "print(\"for x=[%0.2f, %0.2f], predicted = %0.2f, actual = %0.2f\" % (X[0][0], X[0][1], pred_y[0], y[0]))"
      ],
      "metadata": {
        "colab": {
          "base_uri": "https://localhost:8080/"
        },
        "id": "6u5YRiIvFctw",
        "outputId": "90399ef1-18ae-4b1d-c12a-c192d6aaadab"
      },
      "execution_count": 3,
      "outputs": [
        {
          "output_type": "stream",
          "name": "stdout",
          "text": [
            "for x=[4.60, 3.20], predicted = 2.54, actual = 1.40\n"
          ]
        }
      ]
    },
    {
      "cell_type": "markdown",
      "source": [
        "We can evaluate the quality of our predictions using cost/loss functions. Lets use the sum-squared error function\n",
        "\n"
      ],
      "metadata": {
        "id": "Ay4a6YMhG6tJ"
      }
    },
    {
      "cell_type": "code",
      "source": [
        "# sum squared error\n",
        "def cost_function(y_pred, y_actual):\n",
        "    return 0.5 * np.sum((y_actual-y_pred)**2)\n",
        "\n",
        "error = cost_function(pred_y, y)\n",
        "print(error)"
      ],
      "metadata": {
        "colab": {
          "base_uri": "https://localhost:8080/"
        },
        "id": "hysg_sq0FoKA",
        "outputId": "c0622473-241f-4a31-ad38-5b75e546326a"
      },
      "execution_count": 4,
      "outputs": [
        {
          "output_type": "stream",
          "name": "stdout",
          "text": [
            "313.50559999999996\n"
          ]
        }
      ]
    },
    {
      "cell_type": "code",
      "source": [
        "# normalizing the data\n",
        "X = X / np.amax(X, axis=0)\n",
        "y = y / np.amax(y, axis=0)\n",
        "\n",
        "# randomly initializing w, b\n",
        "w, b = [random.random(), random.random()], random.random()\n",
        "\n",
        "# our function w*x + b\n",
        "def F(X, w, b):\n",
        "    return np.sum(w*X, axis=1) + b\n",
        "\n",
        "# calculating error using cost function(Here we use Mean Squared Error)\n",
        "y_pred = F(X, w, b)\n",
        "init_cost = cost_function(y_pred, y)\n",
        "\n",
        "print(\"initial parameters: w1=%0.3f, w2=%0.3f, b=%0.3f\"%(w[0], w[1], b))\n",
        "print(\"initial cost = %0.3f\" % init_cost)"
      ],
      "metadata": {
        "colab": {
          "base_uri": "https://localhost:8080/"
        },
        "id": "BuZqQYNmHFUf",
        "outputId": "4b5c958c-c6c6-454c-877c-a4744e99af0f"
      },
      "execution_count": 5,
      "outputs": [
        {
          "output_type": "stream",
          "name": "stdout",
          "text": [
            "initial parameters: w1=0.114, w2=0.488, b=0.285\n",
            "initial cost = 7.460\n"
          ]
        }
      ]
    },
    {
      "cell_type": "markdown",
      "source": [
        "Now the partial derivatives are:\n",
        "\n",
        "$$\n",
        "\\frac{\\partial J}{\\partial w_1} = - \\sum{x_1^i \\cdot (y^i - (w_1 x_1^i + w_2 x_2^i+ b))}\n",
        "$$\n",
        "\n",
        "$$\n",
        "\\frac{\\partial J}{\\partial w_2} = - \\sum{x_2^i \\cdot (y^i - (w_1 x_1^i + w_2 x_2^i+ b))}\n",
        "$$\n",
        "\n",
        "$$\n",
        "\\frac{\\partial J}{\\partial b} = - \\sum{y^i - (w_1 x_1^i + w_2 x_2^i+ b)}\n",
        "$$"
      ],
      "metadata": {
        "id": "kpR3WeBjJ2sw"
      }
    },
    {
      "cell_type": "code",
      "source": [
        "# implement partial derivatives of our parameters\n",
        "\n",
        "def dJdw1(X, y, w, b):\n",
        "    return -np.dot(X[:,0], y - F(X, w, b))\n",
        "\n",
        "def dJdw2(X, y, w, b):\n",
        "    return -np.dot(X[:,1], y - F(X, w, b))\n",
        "\n",
        "def dJdb(X, y, w, b):\n",
        "    return -np.sum(y - F(X, w, b))"
      ],
      "metadata": {
        "id": "CveoHZvHJYPO"
      },
      "execution_count": 6,
      "outputs": []
    },
    {
      "cell_type": "markdown",
      "source": [
        "Aftet that, we use the following update rule, where we calculate the gradient and then adjust the parameters.\n",
        "\n",
        "$$\n",
        "w_1 = w_1 - \\alpha \\cdot \\frac{\\partial J}{\\partial w_i}\n",
        "$$\n",
        "\n",
        "$$\n",
        "w_2 = w_2 - \\alpha \\cdot \\frac{\\partial J}{\\partial w_2}\n",
        "$$\n",
        "\n",
        "$$\n",
        "b = b - \\alpha \\cdot \\frac{\\partial J}{\\partial b}\n",
        "$$"
      ],
      "metadata": {
        "id": "KEAv94RcKQGk"
      }
    },
    {
      "cell_type": "code",
      "source": [
        "# choose the learning rate parameter and number of iterations\n",
        "lr = 0.001\n",
        "n_iters = 2000\n",
        "\n",
        "# run through gradient descent\n",
        "errors = []\n",
        "for i in range(n_iters):\n",
        "    w[0] = w[0] - lr * dJdw1(X, y, w, b)\n",
        "    w[1] = w[1] - lr * dJdw2(X, y, w, b)\n",
        "    b = b - lr * dJdb(X, y, w, b)\n",
        "    y_pred = F(X, w, b)\n",
        "    j = cost_function(y_pred, y)\n",
        "    errors.append(j)"
      ],
      "metadata": {
        "id": "RhZBXPFyJksq"
      },
      "execution_count": 7,
      "outputs": []
    },
    {
      "cell_type": "code",
      "source": [
        "# plot the error\n",
        "plt.plot(range(n_iters), errors, linewidth=2)\n",
        "plt.title(\"Cost by iteration\")\n",
        "plt.ylabel(\"Cost\")\n",
        "plt.xlabel(\"iterations\")"
      ],
      "metadata": {
        "colab": {
          "base_uri": "https://localhost:8080/",
          "height": 489
        },
        "id": "Yj9y6jspLAVp",
        "outputId": "040f6910-6286-430c-bfef-6e4cd013ef20"
      },
      "execution_count": 8,
      "outputs": [
        {
          "output_type": "execute_result",
          "data": {
            "text/plain": [
              "Text(0.5, 0, 'iterations')"
            ]
          },
          "metadata": {},
          "execution_count": 8
        },
        {
          "output_type": "display_data",
          "data": {
            "text/plain": [
              "<Figure size 640x480 with 1 Axes>"
            ],
            "image/png": "[encoded data removed]"
          },
          "metadata": {}
        }
      ]
    },
    {
      "cell_type": "markdown",
      "source": [
        "* At the beginning of training, the loss is typically high as the model's weights are randomly initialized,the model struggles to make accurate predictions, resulting in a high training loss.\n",
        "\n",
        "* As the training progresses, the loss generally decreases, the model adjusts its weights and biases to minimize the difference between its predictions and the actual target values."
      ],
      "metadata": {
        "id": "bQKAdGigLwoL"
      }
    },
    {
      "cell_type": "markdown",
      "source": [
        "Let's implement the sigmoid function.\n",
        "\n"
      ],
      "metadata": {
        "id": "zGyf_gw2NMrc"
      }
    },
    {
      "cell_type": "code",
      "source": [
        "def sigmoid(z):\n",
        "    return 1.0 / (1.0 + np.exp(-z))"
      ],
      "metadata": {
        "id": "soOMzv5qLEEI"
      },
      "execution_count": 9,
      "outputs": []
    },
    {
      "cell_type": "markdown",
      "source": [
        "Basically, a sigmoid just squashes any input it gets to between 0 and 1. So we now modify our basic function in the following way: instead of just outputting the weighted sum by itself,we now pass that through the sigmoid function.\n",
        "\n",
        "  So instead of y = (w_1 * x_1) + (w_2 * x_2) + b our function now looks like:\n",
        "\n",
        "$$\n",
        "y = \\frac{1}{1 + e^{-(w_1 x_1 + w_2 x_2 + b)}}\n",
        "$$"
      ],
      "metadata": {
        "id": "CtafACY5NYq6"
      }
    },
    {
      "cell_type": "code",
      "source": [
        "def weighted_sum(x, w, b):\n",
        "    return b + np.dot(w, x)\n",
        "\n",
        "def sigmoid(z):\n",
        "    return 1 / (1 + np.exp(-z))\n",
        "\n",
        "# our parameters\n",
        "w = [0.2, 0.6]\n",
        "b = -0.3\n",
        "\n",
        "X, y = data, labels\n",
        "\n",
        "# get weighted sum like before\n",
        "Z = [weighted_sum(x, w, b) for x in X]\n",
        "\n",
        "# now transform the weighted sums with a sigmoid\n",
        "y_pred = [sigmoid(z) for z in Z]\n",
        "\n",
        "# evaluate error\n",
        "error = cost_function(y_pred, y)\n",
        "print(error)"
      ],
      "metadata": {
        "colab": {
          "base_uri": "https://localhost:8080/"
        },
        "id": "rXQ3uzNLOCah",
        "outputId": "05f08db5-b2a5-4ac2-da56-68397699a403"
      },
      "execution_count": 10,
      "outputs": [
        {
          "output_type": "stream",
          "name": "stdout",
          "text": [
            "829.3581552057614\n"
          ]
        }
      ]
    },
    {
      "cell_type": "markdown",
      "source": [
        "The function we posed above can already be considered a neural network. But let's complicate things a bit further, by adding a hidden layer. Neurons can be arranged in layers. So instead of having just two input neurons and an output neuron, let's place a layer of three neurons in the middle\n",
        "\n",
        "![](https://raw.githubusercontent.com/ml4a/ml4a/a8831f15b581f091d16003b0b61a68ed1bbbb770/assets/neuralnet.jpg)"
      ],
      "metadata": {
        "id": "yTsbzEwKOvQ3"
      }
    },
    {
      "cell_type": "code",
      "source": [
        "W1 = np.random.randn(2, 3)\n",
        "W2 = np.random.randn(3, 1)\n",
        "\n",
        "print(\"W1=\", W1)\n",
        "print(\"W2=\", W2)"
      ],
      "metadata": {
        "colab": {
          "base_uri": "https://localhost:8080/"
        },
        "id": "m-MoMt2YOkTL",
        "outputId": "1f07da0f-63b7-4680-eba8-ff7a0505c3b9"
      },
      "execution_count": 11,
      "outputs": [
        {
          "output_type": "stream",
          "name": "stdout",
          "text": [
            "W1= [[ 0.42498541  0.95737189  0.16465838]\n",
            " [-0.0991278  -0.34778645  0.61667078]]\n",
            "W2= [[-0.37806699]\n",
            " [ 0.07077613]\n",
            " [ 0.60299407]]\n"
          ]
        }
      ]
    },
    {
      "cell_type": "markdown",
      "source": [
        "#### implementing a forward pass"
      ],
      "metadata": {
        "id": "cVWOhKp9PFM-"
      }
    },
    {
      "cell_type": "code",
      "source": [
        "\n",
        "X, y = data, labels\n",
        "\n",
        "# first layer weighted sum z\n",
        "z = np.dot(X, W1)\n",
        "\n",
        "# project z through non-linear sigmoid\n",
        "z = sigmoid(z)\n",
        "\n",
        "# do another dot product at end (sigmoid is omitted)\n",
        "y_pred = np.dot(z, W2)\n",
        "\n",
        "# what is our cost\n",
        "error = cost_function(y_pred, y)\n",
        "\n",
        "print('predicted %0.2f for example 0, actual %0.2f, total cost %0.2f'%(pred_y[0], y[0], error))"
      ],
      "metadata": {
        "colab": {
          "base_uri": "https://localhost:8080/"
        },
        "id": "1vaPe9UeO9m7",
        "outputId": "d8fd8557-fb3d-49dc-9de1-b1440854832f"
      },
      "execution_count": 12,
      "outputs": [
        {
          "output_type": "stream",
          "name": "stdout",
          "text": [
            "predicted 2.54 for example 0, actual 1.40, total cost 169302.72\n"
          ]
        }
      ]
    },
    {
      "cell_type": "markdown",
      "source": [
        "Let's turn the above operations into a class.\n",
        "\n"
      ],
      "metadata": {
        "id": "J8iY5h-4PYpJ"
      }
    },
    {
      "cell_type": "code",
      "source": [
        "class Neural_Network(object):\n",
        "    def __init__(self, n0, n1, n2):\n",
        "        self.n0 = n0\n",
        "        self.n1 = n1\n",
        "        self.n2 = n2\n",
        "\n",
        "        # initialize weights\n",
        "        self.W1 = np.random.randn(self.n0, self.n1)\n",
        "        self.W2 = np.random.randn(self.n1 ,self.n2)\n",
        "\n",
        "    def predict(self, x):\n",
        "        z = np.dot(x, self.W1)\n",
        "        z = sigmoid(z)\n",
        "        y = np.dot(z, self.W2)\n",
        "        return y\n"
      ],
      "metadata": {
        "id": "6F2SHwt0PDIW"
      },
      "execution_count": 13,
      "outputs": []
    },
    {
      "cell_type": "code",
      "source": [
        "# instantiate a neural network with 2 input neurons, 3 hidden neurons, and 1 output neuron using above class\n",
        "\n",
        "net = Neural_Network(2, 3, 1)"
      ],
      "metadata": {
        "id": "il41fIVZPSBb"
      },
      "execution_count": 14,
      "outputs": []
    },
    {
      "cell_type": "markdown",
      "source": [
        "Now to do a forward pass, we can simply run the networks predict function:\n"
      ],
      "metadata": {
        "id": "rxCMltIMPwST"
      }
    },
    {
      "cell_type": "code",
      "source": [
        "X, y = data, labels\n",
        "y_pred = net.predict(X)\n",
        "error = cost_function(y_pred, y)\n",
        "\n",
        "print('predicted %0.2f for example 0, actual %0.2f, total cost %0.2f'%(pred_y[0], y[0], error))"
      ],
      "metadata": {
        "colab": {
          "base_uri": "https://localhost:8080/"
        },
        "id": "0P87xH2HPrWt",
        "outputId": "d2d33618-9cb0-461d-fdf6-0b8049a3f886"
      },
      "execution_count": 16,
      "outputs": [
        {
          "output_type": "stream",
          "name": "stdout",
          "text": [
            "predicted 2.54 for example 0, actual 1.40, total cost 190685.64\n"
          ]
        }
      ]
    },
    {
      "cell_type": "markdown",
      "source": [
        " we have a 2x3x1 neural network with 9 weights and 4 biases for 13 total parameters.\n",
        "\n",
        " Now we optimize the parameters to minimize our cost function using Gradient Descent.\n",
        "\n",
        "Gradient Descent will find the gradient of the cost/loss function(J)\n",
        " with respect to the parameters w,b.\n",
        "\n",
        " $$\n",
        " w_i := w_i - \\alpha \\cdot \\frac{\\partial J}{\\partial w_i}\n",
        " $$"
      ],
      "metadata": {
        "id": "mDMiAPzJQHQB"
      }
    },
    {
      "cell_type": "code",
      "source": [
        "def get_gradient(net, X, y):\n",
        "    w_delta = 1e-8\n",
        "\n",
        "    # get the current value of the loss, wherever the parameters are\n",
        "    y_pred_current = net.predict(X)\n",
        "    error_current = cost_function(y_pred_current, y)\n",
        "\n",
        "    # grab the current weights and copy them (so we can restore them after modification)\n",
        "    dw1, dw2 = np.zeros((net.n0, net.n1)), np.zeros((net.n1, net.n2))\n",
        "    W1, W2 = np.copy(net.W1), np.copy(net.W2)\n",
        "\n",
        "    # Calculate gradient for the first layer\n",
        "    for i in range(net.n0):\n",
        "        for j in range(net.n1):\n",
        "            net.W1 = np.copy(W1)\n",
        "            net.W1[i][j] += w_delta\n",
        "            y_pred = net.predict(X)\n",
        "            error = cost_function(y_pred, y)\n",
        "            dw1[i][j] = (error - error_current) / w_delta\n",
        "\n",
        "    # Calculate gradient for the second layer\n",
        "    for i in range(net.n1):\n",
        "        for j in range(net.n2):\n",
        "            net.W2 = np.copy(W2)\n",
        "            net.W2[i][j] += w_delta\n",
        "            y_pred = net.predict(X)\n",
        "            error = cost_function(y_pred, y)\n",
        "            dw2[i][j] = (error - error_current) / w_delta\n",
        "\n",
        "    # restore the original weights\n",
        "    net.W1, net.W2 = np.copy(W1), np.copy(W2)\n",
        "\n",
        "    return dw1, dw2"
      ],
      "metadata": {
        "id": "eXEVFmcoP05N"
      },
      "execution_count": 17,
      "outputs": []
    },
    {
      "cell_type": "markdown",
      "source": [
        "The above function 'get_gradient' calculates the gradient of a 2-layer network net, for our dataset X, y"
      ],
      "metadata": {
        "id": "ZUNZoWSBSfUH"
      }
    },
    {
      "cell_type": "markdown",
      "source": [
        "Now we train the network by the following steps:\n",
        "\n",
        "1. Load our dataset\n",
        "2. Instantiate a neural network\n",
        "3. Train it on the data using the gradient method made above."
      ],
      "metadata": {
        "id": "5U_VzLU4Sp_8"
      }
    },
    {
      "cell_type": "code",
      "source": [
        "# load the data and labels\n",
        "X, y = data, labels.reshape((len(labels),1))\n",
        "\n",
        "# it's always a good idea to normalize the data between 0 and 1\n",
        "X = X/np.amax(X, axis=0)\n",
        "y = y/np.amax(y, axis=0)\n",
        "\n",
        "# create a 2x3x1 neural net\n",
        "net = Neural_Network(2, 3, 1)\n",
        "\n",
        "# what is the current cost?\n",
        "y_pre = net.predict(X)\n",
        "init_cost = cost_function(y_pre, y)\n",
        "print(\"initial cost = %0.3f\" % init_cost)\n",
        "\n",
        "# Set the learning rate, and how many epochs (updates) to try\n",
        "n_epochs = 2000\n",
        "learning_rate = 0.01\n",
        "\n",
        "# for each epoch, calculate the gradient, then subtract it from the parameters, and save the cost\n",
        "errors = []\n",
        "for i in range(n_epochs):\n",
        "    dw1, dw2 = get_gradient(net, X, y)\n",
        "    net.W1 = net.W1 - learning_rate * dw1\n",
        "    net.W2 = net.W2 - learning_rate * dw2\n",
        "    y_pred = net.predict(X)\n",
        "    error = cost_function(y_pred, y)\n",
        "    errors.append(error)\n"
      ],
      "metadata": {
        "colab": {
          "base_uri": "https://localhost:8080/"
        },
        "id": "Hw5Q_cWWSY45",
        "outputId": "cbe50346-6d08-4bec-ebce-37f1bbe67674"
      },
      "execution_count": 20,
      "outputs": [
        {
          "output_type": "stream",
          "name": "stdout",
          "text": [
            "initial cost = 26.501\n"
          ]
        }
      ]
    },
    {
      "cell_type": "code",
      "source": [
        "# plotting iterations vs error\n",
        "plt.plot(range(0, len(errors)), errors)\n",
        "plt.xlabel('Iterations')\n",
        "plt.ylabel('Error')"
      ],
      "metadata": {
        "colab": {
          "base_uri": "https://localhost:8080/",
          "height": 466
        },
        "id": "YfzAFsVoTHgH",
        "outputId": "9a6cf855-c1d8-41da-ba85-14a34f729dcd"
      },
      "execution_count": 19,
      "outputs": [
        {
          "output_type": "execute_result",
          "data": {
            "text/plain": [
              "Text(0, 0.5, 'Error')"
            ]
          },
          "metadata": {},
          "execution_count": 19
        },
        {
          "output_type": "display_data",
          "data": {
            "text/plain": [
              "<Figure size 640x480 with 1 Axes>"
            ],
            "image/png": "[encoded data removed]"
          },
          "metadata": {}
        }
      ]
    }
  ]
}